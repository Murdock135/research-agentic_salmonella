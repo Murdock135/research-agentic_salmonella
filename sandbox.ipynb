{
 "cells": [
  {
   "cell_type": "code",
   "execution_count": 5,
   "id": "145f9405",
   "metadata": {},
   "outputs": [
    {
     "name": "stdout",
     "output_type": "stream",
     "text": [
      "Root: /home/zayan/Documents/code/personal_repos/research-agentic_salmonella/selected_data\n",
      "Dirs: ['social_vulnerability_index', 'mmg']\n",
      "Files: []\n",
      "Root: /home/zayan/Documents/code/personal_repos/research-agentic_salmonella/selected_data/social_vulnerability_index\n",
      "Dirs: ['Missouri']\n",
      "Files: ['SVI_2022_US_county.csv', 'SVI_2022_US_county.zip', 'SVI-2022-Documentation-H.pdf', 'SVI_2020_US_county.csv']\n",
      "Root: /home/zayan/Documents/code/personal_repos/research-agentic_salmonella/selected_data/social_vulnerability_index/Missouri\n",
      "Dirs: []\n",
      "Files: ['Missouri_county_2020.csv', 'Missouri_county_2022.csv']\n",
      "Root: /home/zayan/Documents/code/personal_repos/research-agentic_salmonella/selected_data/mmg\n",
      "Dirs: []\n",
      "Files: ['MMG2011_2009Data_ToShare.xlsx', 'MMG2015_2013Data_ToShare.xlsx', 'MMG2021_2019Data_ToShare.xlsx', 'MMG2019_2017Data_ToShare.xlsx', 'MMG2014_2012Data_ToShare.xlsx', '.~lock.MMG2022_2020-2019Data_ToShare.xlsx#', 'MMG2017_2015Data_ToShare.xlsx', 'Map the Meal Gap Overview and FAQ 7.20.22.pdf', 'MMG2013_2011Data_ToShare.xlsx', 'MMG2012_2010Data_ToShare.xlsx', 'MMG2020_2018Data_ToShare.xlsx', 'MMG2022_2020-2019Data_ToShare.xlsx', 'MMG2018_2016Data_ToShare.xlsx', 'MMG2016_2014Data_ToShare.xlsx']\n"
     ]
    }
   ],
   "source": [
    "import os\n",
    "from config import Config\n",
    "\n",
    "config = Config()\n",
    "path = config.SELECTED_DATA_DIR\n",
    "\n",
    "for root, dirs, files in os.walk(path):\n",
    "    print(f\"Root: {root}\")\n",
    "    print(f\"Dirs: {dirs}\")\n",
    "    print(f\"Files: {files}\")"
   ]
  },
  {
   "cell_type": "code",
   "execution_count": 6,
   "id": "e4d962db",
   "metadata": {},
   "outputs": [],
   "source": [
    "def get_data_paths(root):\n",
    "    for dirpath, dirnames, filenames in os.walk(root):\n",
    "        print(f\"Directory: {dirpath}\")\n",
    "        for dirname in dirnames:\n",
    "            print(f\"Subdirectory: {dirname}\")\n",
    "        for filename in filenames:\n",
    "            print(f\"File: {filename}\")"
   ]
  },
  {
   "cell_type": "code",
   "execution_count": 7,
   "id": "b8e9a551",
   "metadata": {},
   "outputs": [
    {
     "name": "stdout",
     "output_type": "stream",
     "text": [
      "Directory: /home/zayan/Documents/code/personal_repos/research-agentic_salmonella/selected_data\n",
      "Subdirectory: social_vulnerability_index\n",
      "Subdirectory: mmg\n",
      "Directory: /home/zayan/Documents/code/personal_repos/research-agentic_salmonella/selected_data/social_vulnerability_index\n",
      "Subdirectory: Missouri\n",
      "File: SVI_2022_US_county.csv\n",
      "File: SVI_2022_US_county.zip\n",
      "File: SVI-2022-Documentation-H.pdf\n",
      "File: SVI_2020_US_county.csv\n",
      "Directory: /home/zayan/Documents/code/personal_repos/research-agentic_salmonella/selected_data/social_vulnerability_index/Missouri\n",
      "File: Missouri_county_2020.csv\n",
      "File: Missouri_county_2022.csv\n",
      "Directory: /home/zayan/Documents/code/personal_repos/research-agentic_salmonella/selected_data/mmg\n",
      "File: MMG2011_2009Data_ToShare.xlsx\n",
      "File: MMG2015_2013Data_ToShare.xlsx\n",
      "File: MMG2021_2019Data_ToShare.xlsx\n",
      "File: MMG2019_2017Data_ToShare.xlsx\n",
      "File: MMG2014_2012Data_ToShare.xlsx\n",
      "File: .~lock.MMG2022_2020-2019Data_ToShare.xlsx#\n",
      "File: MMG2017_2015Data_ToShare.xlsx\n",
      "File: Map the Meal Gap Overview and FAQ 7.20.22.pdf\n",
      "File: MMG2013_2011Data_ToShare.xlsx\n",
      "File: MMG2012_2010Data_ToShare.xlsx\n",
      "File: MMG2020_2018Data_ToShare.xlsx\n",
      "File: MMG2022_2020-2019Data_ToShare.xlsx\n",
      "File: MMG2018_2016Data_ToShare.xlsx\n",
      "File: MMG2016_2014Data_ToShare.xlsx\n"
     ]
    }
   ],
   "source": [
    "get_data_paths(path)"
   ]
  },
  {
   "cell_type": "code",
   "execution_count": 9,
   "id": "4c85e431",
   "metadata": {},
   "outputs": [
    {
     "data": {
      "text/plain": [
       "['a', 'b', 'c']"
      ]
     },
     "execution_count": 9,
     "metadata": {},
     "output_type": "execute_result"
    }
   ],
   "source": [
    "tools = ['a', 'b']\n",
    "tools+['c']"
   ]
  }
 ],
 "metadata": {
  "kernelspec": {
   "display_name": ".venv",
   "language": "python",
   "name": "python3"
  },
  "language_info": {
   "codemirror_mode": {
    "name": "ipython",
    "version": 3
   },
   "file_extension": ".py",
   "mimetype": "text/x-python",
   "name": "python",
   "nbconvert_exporter": "python",
   "pygments_lexer": "ipython3",
   "version": "3.12.3"
  }
 },
 "nbformat": 4,
 "nbformat_minor": 5
}
